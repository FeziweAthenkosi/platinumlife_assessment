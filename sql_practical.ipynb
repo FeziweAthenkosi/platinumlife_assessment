{
 "cells": [
  {
   "cell_type": "code",
   "execution_count": null,
   "id": "d1b5dd07",
   "metadata": {},
   "outputs": [],
   "source": [
    "select client_name, department \n",
    "from Client_Info_Table as a \n",
    "left join Company_Table as b\n",
    "on a.client_Id = b.client_Id \n",
    "\n",
    "1.2 Inner Join\n",
    "1.3 1 SELECT employee_name , employee_name as \"manager\"\n",
    "      FROM table_above as a\n",
    "       LEFT OUTER JOIN table_above as b\n",
    "       ON a.Id = b.manager_Id\n",
    "    \n",
    "1.3.2 Pieeter is the boss\n",
    "\n",
    "2 select sum (case when s >= 0 then s) as positive,\n",
    "       sum (case when s < 0 then s) as negative\n",
    "    from Numbers\n",
    "\n",
    "3 Select count(ID) as dup_count\n",
    "    from employees_table \n",
    "    having count(ID) > 1\n",
    "\n",
    "3.1 select*(select  employee_name, age , row_number() over (partition by employee_name orderby employee_name asc) as row_number\n",
    "    from employee_table) as a\n",
    "    from a where row_number = 3\n",
    "4. Create table Vehicle (Make varchar(100), \n",
    "                         Model varchar(100), \n",
    "                         Manufacture_Date date, \n",
    "                         Cost float,\n",
    "                         Model_id int)\n",
    "\n",
    "\n",
    " Create table Vehicle_type (Manufacturer varchar(100), \n",
    "                          Model_Id int, \n",
    "                          Parts varchar(100),\n",
    "                          Warranty_Expiry_date date,\n",
    "                          City varchar (100))\n",
    "                            \n",
    "Insert into Vehicle(Make,Model, Manufacture_Date, Cost, Model_id)    \n",
    "values (\"Toyota\", \"Etios\", \"2023-01-01\", \"250000.00\", 001)\n",
    "\n",
    "Insert into Vehicle_type(Manufacturer,Model_Id, Parts, Warranty_Expiry_date, City)    \n",
    "values (\"Toyota\", 001, \"Windscreen\", \"2030-01-01\", \"Johannesburg\" )\n",
    "                            \n",
    "select v.Make, v.Model, v.Cost, v.Manufacture_Date, vt.Parts, vt.Warranty_Expiry_Date into #temp_table\n",
    "from vehicle as v \n",
    "left join vehicle_type as vt\n",
    "on v.Model_Id = vt.Model_Id\n",
    "\n",
    "5.2 You close the current session \n",
    "6.\n",
    "    \n"
   ]
  }
 ],
 "metadata": {
  "kernelspec": {
   "display_name": "Python 3 (ipykernel)",
   "language": "python",
   "name": "python3"
  },
  "language_info": {
   "codemirror_mode": {
    "name": "ipython",
    "version": 3
   },
   "file_extension": ".py",
   "mimetype": "text/x-python",
   "name": "python",
   "nbconvert_exporter": "python",
   "pygments_lexer": "ipython3",
   "version": "3.9.13"
  }
 },
 "nbformat": 4,
 "nbformat_minor": 5
}
