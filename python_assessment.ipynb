{
 "cells": [
  {
   "cell_type": "code",
   "execution_count": 103,
   "id": "7603582d",
   "metadata": {},
   "outputs": [],
   "source": [
    "from datetime import timedelta, datetime"
   ]
  },
  {
   "cell_type": "code",
   "execution_count": 105,
   "id": "6366c179",
   "metadata": {},
   "outputs": [
    {
     "name": "stdout",
     "output_type": "stream",
     "text": [
      "False\n"
     ]
    }
   ],
   "source": [
    "def is_date_format_correct(date:str)->bool:\n",
    "    \"\"\"\n",
    "    This function takes in a date in string format\n",
    "    and returns true if the date matches the format\n",
    "    YYYY-MM-DD and false if it doesn't\n",
    "    \"\"\"\n",
    "    \n",
    "    try:\n",
    "        format = '%Y-%m-%d'\n",
    "        date_time = datetime.strptime(date, format).strftime('%Y-%m-%d')\n",
    "        if date != date_time:\n",
    "            raise ValueError\n",
    "        return True \n",
    "    except ValueError:\n",
    "        return False\n",
    "print(is_date_format_correct('19990101'))\n",
    "    \n",
    "    "
   ]
  },
  {
   "cell_type": "code",
   "execution_count": 3,
   "id": "38a67d8c",
   "metadata": {},
   "outputs": [
    {
     "name": "stdout",
     "output_type": "stream",
     "text": [
      "1,2,3,4,5,7,8,9,10,"
     ]
    }
   ],
   "source": [
    "for i in range(1, 11):\n",
    "    if i==6:\n",
    "        continue\n",
    "    else:\n",
    "        print(i, end=',')"
   ]
  },
  {
   "cell_type": "code",
   "execution_count": 134,
   "id": "988771d9",
   "metadata": {
    "scrolled": true
   },
   "outputs": [
    {
     "name": "stdout",
     "output_type": "stream",
     "text": [
      "['24-Jan-2023', '05-Apr-2025', '09-Dec-2021']\n",
      "None\n"
     ]
    }
   ],
   "source": [
    "def compute_prev_date(dates_list:list):\n",
    "    lists = []\n",
    "    for day in range(len(dates_list)):\n",
    "        format = '%Y-%m-%d'\n",
    "        dates_list[day] = datetime.strptime(dates_list[day], format).date()\n",
    "        get_previous_date = dates_list[day]- timedelta(days=1)\n",
    "        lists.append(get_previous_date.strftime(\"%d-%b-%Y\"))\n",
    "    print(lists)\n",
    "    \n",
    "print(compute_prev_date([\"2023-01-25\", \"2025-04-06\", \"2021-12-10\"]))\n"
   ]
  },
  {
   "cell_type": "code",
   "execution_count": 89,
   "id": "525ca5b3",
   "metadata": {},
   "outputs": [
    {
     "ename": "TypeError",
     "evalue": "fetch_quantity() takes 0 positional arguments but 1 was given",
     "output_type": "error",
     "traceback": [
      "\u001b[0;31m---------------------------------------------------------------------------\u001b[0m",
      "\u001b[0;31mTypeError\u001b[0m                                 Traceback (most recent call last)",
      "\u001b[0;32m/tmp/ipykernel_15331/1381748042.py\u001b[0m in \u001b[0;36m<module>\u001b[0;34m\u001b[0m\n\u001b[1;32m     41\u001b[0m         \u001b[0mprint\u001b[0m\u001b[0;34m(\u001b[0m\u001b[0;34m\"ERROR:\"\u001b[0m\u001b[0;34m,\u001b[0m \u001b[0me\u001b[0m\u001b[0;34m)\u001b[0m\u001b[0;34m\u001b[0m\u001b[0;34m\u001b[0m\u001b[0m\n\u001b[1;32m     42\u001b[0m \u001b[0;34m\u001b[0m\u001b[0m\n\u001b[0;32m---> 43\u001b[0;31m \u001b[0mcost_per_quantity\u001b[0m \u001b[0;34m=\u001b[0m \u001b[0mcompute_cost_per_quantity\u001b[0m\u001b[0;34m(\u001b[0m\u001b[0;34m)\u001b[0m\u001b[0;34m\u001b[0m\u001b[0;34m\u001b[0m\u001b[0m\n\u001b[0m\u001b[1;32m     44\u001b[0m \u001b[0ma\u001b[0m \u001b[0;34m=\u001b[0m \u001b[0;36m1\u001b[0m \u001b[0;34m+\u001b[0m \u001b[0;36m2\u001b[0m \u001b[0;34m+\u001b[0m \u001b[0mcost_per_quantity\u001b[0m\u001b[0;34m\u001b[0m\u001b[0;34m\u001b[0m\u001b[0m\n\u001b[1;32m     45\u001b[0m \u001b[0mb\u001b[0m \u001b[0;34m=\u001b[0m \u001b[0;36m4\u001b[0m \u001b[0;34m+\u001b[0m \u001b[0;36m5\u001b[0m\u001b[0;34m\u001b[0m\u001b[0;34m\u001b[0m\u001b[0m\n",
      "\u001b[0;32m/tmp/ipykernel_15331/1381748042.py\u001b[0m in \u001b[0;36mcompute_cost_per_quantity\u001b[0;34m()\u001b[0m\n\u001b[1;32m     32\u001b[0m \u001b[0;32mdef\u001b[0m \u001b[0mcompute_cost_per_quantity\u001b[0m\u001b[0;34m(\u001b[0m\u001b[0;34m)\u001b[0m\u001b[0;34m:\u001b[0m\u001b[0;34m\u001b[0m\u001b[0;34m\u001b[0m\u001b[0m\n\u001b[1;32m     33\u001b[0m \u001b[0;34m\u001b[0m\u001b[0m\n\u001b[0;32m---> 34\u001b[0;31m     \u001b[0mqty\u001b[0m \u001b[0;34m=\u001b[0m \u001b[0mfetch_quantity\u001b[0m\u001b[0;34m(\u001b[0m\u001b[0;36m1\u001b[0m\u001b[0;34m)\u001b[0m\u001b[0;34m\u001b[0m\u001b[0;34m\u001b[0m\u001b[0m\n\u001b[0m\u001b[1;32m     35\u001b[0m     \u001b[0mcost\u001b[0m \u001b[0;34m=\u001b[0m \u001b[0mfetch_cost\u001b[0m\u001b[0;34m(\u001b[0m\u001b[0;36m2\u001b[0m\u001b[0;34m)\u001b[0m\u001b[0;34m\u001b[0m\u001b[0;34m\u001b[0m\u001b[0m\n\u001b[1;32m     36\u001b[0m \u001b[0;34m\u001b[0m\u001b[0m\n",
      "\u001b[0;31mTypeError\u001b[0m: fetch_quantity() takes 0 positional arguments but 1 was given"
     ]
    }
   ],
   "source": [
    "def main():\n",
    "    qty = None\n",
    "    cost = None\n",
    "\n",
    "\n",
    "def fetch_quantity():\n",
    "    \"\"\"\n",
    "    Returns a number, any number\n",
    "    \"\"\"\n",
    "    try:\n",
    "        print(fetch_quantity())\n",
    "    \n",
    "    except Exception as e:\n",
    "        print(\"Error:\", e)\n",
    "   \n",
    "        \n",
    "def fetch_cost():\n",
    "    \"\"\"\n",
    "    Returns a number, any number\n",
    "    \"\"\"\n",
    "\n",
    "    try:\n",
    "        print(fetch_cost())\n",
    "    \n",
    "    except Exception as e:\n",
    "        print(\"Error:\", e)\n",
    "        \n",
    "    finally:\n",
    "        return fetch_cost()\n",
    "        \n",
    "        \n",
    "def compute_cost_per_quantity():\n",
    "\n",
    "    qty = fetch_quantity(1)\n",
    "    cost = fetch_cost(2)\n",
    "    \n",
    "    try:\n",
    "        cost_per_quantity = cost/qty\n",
    "        \n",
    "    except Exception as e:\n",
    "        print(\"ERROR:\", e)\n",
    "\n",
    "cost_per_quantity = compute_cost_per_quantity()\n",
    "a = 1 + 2 + cost_per_quantity\n",
    "b = 4 + 5\n",
    "print(a+b)"
   ]
  },
  {
   "cell_type": "code",
   "execution_count": null,
   "id": "13204a23",
   "metadata": {},
   "outputs": [],
   "source": [
    "class TestMath():\n",
    "    \n",
    "    def _init_(self,x,y):\n",
    "        self.x=10\n",
    "        self.y=10\n",
    "\n",
    "    def test_add(x,y):\n",
    "\n",
    "        return x + y\n",
    "\n",
    "    def test_subtract(x,y):\n",
    "        return x - y\n",
    "    \n",
    "    def test_milutiply(x,y):\n",
    "        return x * y"
   ]
  },
  {
   "cell_type": "code",
   "execution_count": null,
   "id": "5f050238",
   "metadata": {},
   "outputs": [],
   "source": [
    "import pandas as pd #dependency\n",
    "import numpy as np #dependency\n",
    "\n",
    "df_teacher = pd.DataFrame({\n",
    "\"name\": [\"Pep Guardiola\", \"Jurgen Klopp\", \"Mikel Arteta\", \"Zinadine Zidane\"],\n",
    "\"married\": [True, True, False, True],\n",
    "\"school\": [\"Manchester High School\", \"Liverpool High School\", \"Arsenal High\", np.nan]\n",
    "})\n",
    "\n",
    "df_student = pd.DataFrame({\n",
    "\"teacher\": [\"Mikel Arteta\", \"Mikel Arteta\", \"Pep Guardiola\", \"Jurgen Klopp\", \"Jurgen Klopp\", \"Jurgen Klopp\", \"Pep Guardiola\",\"Pep Guardiola\",\"Mikel Arteta\"],\n",
    "\"name\": [\"Bukayo Saka\", \"Gabriel Martinelli\", \"Jack Grealish\", \"Roberto Firmino\",\n",
    "\"Andrew Robertson\", \"Darwin Nunez\", \"Ederson Moraes\", \"Manuel Akanji\", \"Thomas Partey\"],\n",
    "\"age\": [21, 21, 27, 31, 28, 23, 29, 27, 29],\n",
    "\"height\": ['2.1m','2.1m', '2.1m', '2.1m', '2.1m', '2.1m', '2.1m', '2.1m', '2.1m']\n",
    "})\n",
    "\n",
    "df_teacher_copy = df_teacher.copy()\n",
    "\n",
    "df_teacher_copy = df_teacher_copy.rename(columns= {\"name\":\"teacher\"})\n",
    "df_all = pd.merge(df_teacher_copy, df_student, how ='left', on ='teacher')\n",
    "print(df_all)\n",
    "df_all_grouped = df_all.groupby(\"teacher\", )\n",
    "\n",
    "df = pd.DataFrame(df_all_grouped)\n",
    "df.to_json(r'/home/feziwe/Downloads/assessment/df_all_grouped.json')\n",
    "\n"
   ]
  },
  {
   "cell_type": "code",
   "execution_count": null,
   "id": "044a7760",
   "metadata": {},
   "outputs": [],
   "source": []
  },
  {
   "cell_type": "code",
   "execution_count": null,
   "id": "1482b973",
   "metadata": {},
   "outputs": [],
   "source": []
  },
  {
   "cell_type": "code",
   "execution_count": null,
   "id": "5d6b00b7",
   "metadata": {},
   "outputs": [],
   "source": []
  }
 ],
 "metadata": {
  "kernelspec": {
   "display_name": "Python 3 (ipykernel)",
   "language": "python",
   "name": "python3"
  },
  "language_info": {
   "codemirror_mode": {
    "name": "ipython",
    "version": 3
   },
   "file_extension": ".py",
   "mimetype": "text/x-python",
   "name": "python",
   "nbconvert_exporter": "python",
   "pygments_lexer": "ipython3",
   "version": "3.9.13"
  }
 },
 "nbformat": 4,
 "nbformat_minor": 5
}
